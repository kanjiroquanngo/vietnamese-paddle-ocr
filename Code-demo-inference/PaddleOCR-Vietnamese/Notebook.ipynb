{
  "cells": [
    {
      "cell_type": "code",
      "execution_count": 46,
      "metadata": {
        "colab": {
          "base_uri": "https://localhost:8080/"
        },
        "id": "-iwQ1KtqN0iJ",
        "outputId": "1b63beea-4555-4565-c140-f550f17161f3"
      },
      "outputs": [
        {
          "name": "stdout",
          "output_type": "stream",
          "text": [
            "Mon Jan 24 17:53:07 2022       \n",
            "+-----------------------------------------------------------------------------+\n",
            "| NVIDIA-SMI 495.46       Driver Version: 460.32.03    CUDA Version: 11.2     |\n",
            "|-------------------------------+----------------------+----------------------+\n",
            "| GPU  Name        Persistence-M| Bus-Id        Disp.A | Volatile Uncorr. ECC |\n",
            "| Fan  Temp  Perf  Pwr:Usage/Cap|         Memory-Usage | GPU-Util  Compute M. |\n",
            "|                               |                      |               MIG M. |\n",
            "|===============================+======================+======================|\n",
            "|   0  Tesla K80           Off  | 00000000:00:04.0 Off |                    0 |\n",
            "| N/A   30C    P8    28W / 149W |      0MiB / 11441MiB |      0%      Default |\n",
            "|                               |                      |                  N/A |\n",
            "+-------------------------------+----------------------+----------------------+\n",
            "                                                                               \n",
            "+-----------------------------------------------------------------------------+\n",
            "| Processes:                                                                  |\n",
            "|  GPU   GI   CI        PID   Type   Process name                  GPU Memory |\n",
            "|        ID   ID                                                   Usage      |\n",
            "|=============================================================================|\n",
            "|  No running processes found                                                 |\n",
            "+-----------------------------------------------------------------------------+\n"
          ]
        }
      ],
      "source": [
        "!nvidia-smi"
      ]
    },
    {
      "cell_type": "markdown",
      "metadata": {
        "id": "ujN_E5qwBwH4"
      },
      "source": [
        "#Setup"
      ]
    },
    {
      "cell_type": "code",
      "execution_count": 1,
      "metadata": {
        "colab": {
          "base_uri": "https://localhost:8080/"
        },
        "id": "-03n4XyG3Yen",
        "outputId": "13c31c2a-a1e9-4fbe-a784-bd8fa5b7abeb"
      },
      "outputs": [
        {
          "name": "stdout",
          "output_type": "stream",
          "text": [
            "Cloning into 'PaddleOCR-Vietnamese'...\n",
            "remote: Enumerating objects: 351, done.\u001b[K\n",
            "remote: Counting objects: 100% (351/351), done.\u001b[K\n",
            "remote: Compressing objects: 100% (292/292), done.\u001b[K\n",
            "remote: Total 351 (delta 58), reused 337 (delta 50), pack-reused 0\u001b[K\n",
            "Receiving objects: 100% (351/351), 12.67 MiB | 7.92 MiB/s, done.\n",
            "Resolving deltas: 100% (58/58), done.\n"
          ]
        }
      ],
      "source": [
        "!git clone https://github.com/hungcao0402/PaddleOCR-Vietnamese"
      ]
    },
    {
      "cell_type": "code",
      "execution_count": 2,
      "metadata": {
        "colab": {
          "base_uri": "https://localhost:8080/"
        },
        "id": "BVsvG_vd4CwZ",
        "outputId": "8d8f545a-c749-409f-facf-4b40e8216acf"
      },
      "outputs": [
        {
          "name": "stdout",
          "output_type": "stream",
          "text": [
            "/content/PaddleOCR-Vietnamese\n"
          ]
        }
      ],
      "source": [
        "%cd /content/PaddleOCR-Vietnamese"
      ]
    },
    {
      "cell_type": "code",
      "execution_count": null,
      "metadata": {
        "id": "ezEN8KZB3aFm"
      },
      "outputs": [],
      "source": [
        "!pip install -r requirements.txt"
      ]
    },
    {
      "cell_type": "code",
      "execution_count": null,
      "metadata": {
        "id": "xnHD3FGp6u7M"
      },
      "outputs": [],
      "source": [
        "!pip install paddlepaddle-gpu"
      ]
    },
    {
      "cell_type": "markdown",
      "metadata": {
        "id": "JeAAlSsRB0wX"
      },
      "source": [
        "#Download data"
      ]
    },
    {
      "cell_type": "code",
      "execution_count": 4,
      "metadata": {
        "colab": {
          "base_uri": "https://localhost:8080/"
        },
        "id": "snQl197R4HuY",
        "outputId": "1de13309-93c5-4dc2-937b-094a04ad885a"
      },
      "outputs": [
        {
          "name": "stdout",
          "output_type": "stream",
          "text": [
            "Downloading...\n",
            "From: https://drive.google.com/uc?id=1UUQhNvzgpZy7zXBFQp0Qox-BBjunZ0ml\n",
            "To: /content/PaddleOCR-Vietnamese/vietnamese_original.zip\n",
            "100% 1.05G/1.05G [00:10<00:00, 97.3MB/s]\n"
          ]
        }
      ],
      "source": [
        "!gdown --id 1UUQhNvzgpZy7zXBFQp0Qox-BBjunZ0ml\n",
        "!unzip vietnamese_original.zip -d train"
      ]
    },
    {
      "cell_type": "markdown",
      "metadata": {
        "id": "2lXUmzQoCAn_"
      },
      "source": [
        "#Train"
      ]
    },
    {
      "cell_type": "markdown",
      "metadata": {
        "id": "ef0Z-TlCCYY8"
      },
      "source": [
        "##Train model detection\n"
      ]
    },
    {
      "cell_type": "markdown",
      "metadata": {
        "id": "2x19aSLuCNgb"
      },
      "source": [
        "Tiền xử lý dữ liệu train model detection"
      ]
    },
    {
      "cell_type": "code",
      "execution_count": 8,
      "metadata": {
        "id": "KVWsgLu74kou"
      },
      "outputs": [],
      "source": [
        "!python3 ConvertFromBtcToFormatPaddle.py"
      ]
    },
    {
      "cell_type": "markdown",
      "metadata": {
        "id": "YvRmlYkACIkM"
      },
      "source": [
        "Download pretrain model SAST"
      ]
    },
    {
      "cell_type": "code",
      "execution_count": 9,
      "metadata": {
        "colab": {
          "base_uri": "https://localhost:8080/"
        },
        "id": "rbGqJWhY7gbL",
        "outputId": "af0cb944-6e14-4b8e-908e-61a4228db360"
      },
      "outputs": [
        {
          "name": "stdout",
          "output_type": "stream",
          "text": [
            "--2022-01-24 16:41:50--  https://paddleocr.bj.bcebos.com/dygraph_v2.0/en/det_r50_vd_sast_icdar15_v2.0_train.tar\n",
            "Resolving paddleocr.bj.bcebos.com (paddleocr.bj.bcebos.com)... 103.235.46.61, 2409:8c04:1001:1002:0:ff:b001:368a\n",
            "Connecting to paddleocr.bj.bcebos.com (paddleocr.bj.bcebos.com)|103.235.46.61|:443... connected.\n",
            "HTTP request sent, awaiting response... 200 OK\n",
            "Length: 1041520640 (993M) [application/x-tar]\n",
            "Saving to: ‘./pretrain_models/det_r50_vd_sast_icdar15_v2.0_train.tar’\n",
            "\n",
            "det_r50_vd_sast_icd 100%[===================>] 993.27M  10.5MB/s    in 2m 2s   \n",
            "\n",
            "2022-01-24 16:43:56 (8.16 MB/s) - ‘./pretrain_models/det_r50_vd_sast_icdar15_v2.0_train.tar’ saved [1041520640/1041520640]\n",
            "\n"
          ]
        }
      ],
      "source": [
        "!wget https://paddleocr.bj.bcebos.com/dygraph_v2.0/en/det_r50_vd_sast_icdar15_v2.0_train.tar -P ./pretrain_models\n",
        "!tar -xf ./pretrain_models/det_r50_vd_sast_icdar15_v2.0_train.tar -C /content/PaddleOCR-Vietnamese/pretrain_models"
      ]
    },
    {
      "cell_type": "markdown",
      "metadata": {
        "id": "bs22YV66D4nt"
      },
      "source": [
        "Training"
      ]
    },
    {
      "cell_type": "code",
      "execution_count": null,
      "metadata": {
        "id": "_0Zm69Gh479p"
      },
      "outputs": [],
      "source": [
        "!python3 tools/train.py -c ./configs/det/SAST.yml"
      ]
    },
    {
      "cell_type": "markdown",
      "metadata": {
        "id": "ec9vdmk0Cbwf"
      },
      "source": [
        "##Train model recognition"
      ]
    },
    {
      "cell_type": "markdown",
      "metadata": {
        "id": "pKKMNb1nCdxp"
      },
      "source": [
        "Tiền xử lý dữ liệu train model recognition"
      ]
    },
    {
      "cell_type": "code",
      "execution_count": 14,
      "metadata": {
        "id": "wyI9DtN187OW"
      },
      "outputs": [],
      "source": [
        "!python3 crop_image.py"
      ]
    },
    {
      "cell_type": "markdown",
      "metadata": {
        "id": "h8biNzPtD1sS"
      },
      "source": [
        "Training"
      ]
    },
    {
      "cell_type": "code",
      "execution_count": null,
      "metadata": {
        "id": "65IK5TgnApT-"
      },
      "outputs": [],
      "source": [
        "!python3 tools/train.py -c ./configs/rec/SRN.yml "
      ]
    },
    {
      "cell_type": "markdown",
      "metadata": {
        "id": "ivX-knUJChsB"
      },
      "source": [
        "#Evaluation"
      ]
    },
    {
      "cell_type": "code",
      "execution_count": null,
      "metadata": {
        "id": "nBd3mDFaBhQw"
      },
      "outputs": [],
      "source": [
        "#evaluation model detection\n",
        "!python3 tools/eval.py -c SAST.yml \\\n",
        "                       -o Global.checkpoints_model=path_checkpoints "
      ]
    },
    {
      "cell_type": "code",
      "execution_count": null,
      "metadata": {
        "id": "1x-58sfkBlNB"
      },
      "outputs": [],
      "source": [
        "#evaluation model recognition\n",
        "!python3 tools/eval.py -c ./configs/rec/SRN.yml  \\\n",
        "                       -o Global.checkpoints=.path_checkpoints \\\n",
        "                          Global.character_type=ch  \\\n",
        "                          Global.character_dict_path=./ppocr/utils/dict/vi_vietnam.txt "
      ]
    },
    {
      "cell_type": "markdown",
      "metadata": {
        "id": "oewHocs6CpQ4"
      },
      "source": [
        "#Convert to inference model"
      ]
    },
    {
      "cell_type": "code",
      "execution_count": null,
      "metadata": {
        "id": "M2Y5TBTuBmuV"
      },
      "outputs": [],
      "source": [
        "!python3 tools/export_model.py -c ./configs/det/SAST.yml  \\\n",
        "                              -o Global.pretrained_model= #path_pretrained \\\n",
        "                                 Global.save_inference_dir=./inference/SAST\n",
        "                                 \n",
        "!python3 tools/export_model.py -c ./configs/rec/SRN.yml .\n",
        "                              -o Global.pretrained_model= #path_pretrained \\\n",
        "                                 Global.save_inference_dir=./inference/SRN"
      ]
    },
    {
      "cell_type": "markdown",
      "metadata": {
        "id": "8mQqyq02C53r"
      },
      "source": [
        "Sau khi convert xong thì predict với model trên"
      ]
    },
    {
      "cell_type": "code",
      "execution_count": 17,
      "metadata": {
        "colab": {
          "base_uri": "https://localhost:8080/"
        },
        "id": "zkhsIHzgGXTN",
        "outputId": "8a8f961c-d3a4-4377-a996-fdefbef9eb7a"
      },
      "outputs": [
        {
          "name": "stdout",
          "output_type": "stream",
          "text": [
            "Downloading...\n",
            "From: https://drive.google.com/uc?id=1slORHgS8awv7BeuSDahJvV1POPQtP_I_\n",
            "To: /content/PaddleOCR-Vietnamese/SAST.zip\n",
            "100% 180M/180M [00:01<00:00, 176MB/s]\n",
            "Downloading...\n",
            "From: https://drive.google.com/uc?id=1-M5EMuLyFlOfp2bNMX6tibNmY3WReIxo\n",
            "To: /content/PaddleOCR-Vietnamese/SRN.zip\n",
            "100% 204M/204M [00:01<00:00, 134MB/s]\n",
            "Archive:  SAST.zip\n",
            "   creating: inference/SAST/\n",
            "  inflating: inference/SAST/inference.pdmodel  \n",
            "  inflating: inference/SAST/inference.pdiparams  \n",
            "  inflating: inference/SAST/inference.pdiparams.info  \n",
            "Archive:  SRN.zip\n",
            "   creating: inference/SRN/\n",
            "  inflating: inference/SRN/inference.pdiparams  \n",
            "  inflating: inference/SRN/inference.pdiparams.info  \n",
            "  inflating: inference/SRN/inference.pdmodel  \n"
          ]
        }
      ],
      "source": [
        "#Download model inference\n",
        "!gdown --id 1slORHgS8awv7BeuSDahJvV1POPQtP_I_\n",
        "!gdown --id 1-M5EMuLyFlOfp2bNMX6tibNmY3WReIxo\n",
        "!unzip SAST.zip -d inference\n",
        "!unzip SRN.zip -d inference"
      ]
    },
    {
      "cell_type": "code",
      "execution_count": 18,
      "metadata": {
        "colab": {
          "base_uri": "https://localhost:8080/"
        },
        "id": "BD-4aUDkBrDH",
        "outputId": "d7699700-2768-4c8d-96a5-d949c4a93b6d"
      },
      "outputs": [
        {
          "name": "stdout",
          "output_type": "stream",
          "text": [
            "/usr/local/lib/python3.7/dist-packages/skimage/data/__init__.py:107: DeprecationWarning: \n",
            "    Importing file_hash from pooch.utils is DEPRECATED. Please import from the\n",
            "    top-level namespace (`from pooch import file_hash`) instead, which is fully\n",
            "    backwards compatible with pooch >= 0.1.\n",
            "    \n",
            "  return file_hash(path) == expected_hash\n",
            "[2022/01/24 17:27:48] root INFO: im1502.jpg\t[[[107, 78], [186, 90], [185, 121], [106, 114]], [[194, 91], [286, 100], [285, 128], [193, 122]], [[215, 236], [267, 236], [267, 272], [214, 273]], [[52, 233], [152, 234], [152, 268], [52, 267]], [[295, 305], [347, 303], [346, 342], [295, 343]], [[136, 306], [230, 302], [230, 341], [136, 338]], [[238, 302], [289, 300], [288, 337], [238, 338]], [[68, 304], [127, 300], [126, 338], [67, 340]], [[160, 235], [204, 231], [204, 268], [161, 268]], [[13, 302], [60, 298], [57, 340], [14, 340]]]\n",
            "\n",
            "[2022/01/24 17:27:48] root INFO: The predict time of ./train/vietnamese/unseen_test_images/im1502.jpg: 3.6197309494018555\n",
            "[2022/01/24 17:27:48] root INFO: The visualized image saved in ./inference_results/det_res_im1502.jpg\n"
          ]
        }
      ],
      "source": [
        "#predict detection\n",
        "!python3 tools/infer/predict_det.py --det_algorithm=\"SAST\" --use_gpu=True \\\n",
        "                                    --det_model_dir=\"./inference/SAST\"  \\\n",
        "                                    --image_dir=./train/vietnamese/unseen_test_images/im1502.jpg"
      ]
    },
    {
      "cell_type": "code",
      "execution_count": 19,
      "metadata": {
        "colab": {
          "base_uri": "https://localhost:8080/"
        },
        "id": "XPyiwn_UC4oG",
        "outputId": "f097e8f1-03d3-479a-a545-57de34942c91"
      },
      "outputs": [
        {
          "name": "stdout",
          "output_type": "stream",
          "text": [
            "/usr/local/lib/python3.7/dist-packages/skimage/data/__init__.py:107: DeprecationWarning: \n",
            "    Importing file_hash from pooch.utils is DEPRECATED. Please import from the\n",
            "    top-level namespace (`from pooch import file_hash`) instead, which is fully\n",
            "    backwards compatible with pooch >= 0.1.\n",
            "    \n",
            "  return file_hash(path) == expected_hash\n",
            "[2022/01/24 17:27:57] root INFO: Predicts of ./train/img_crop/im0001_0.jpg:('CHẤT', 0.99999535)\n"
          ]
        }
      ],
      "source": [
        "#predict recognition\n",
        "!python3 tools/infer/predict_rec.py --image_dir=\"./train/img_crop/im0001_0.jpg\" \\\n",
        "                                    --use_gpu=True \\\n",
        "                                    --rec_algorithm=\"SRN\" \\\n",
        "                                    --rec_model_dir=\"./inference/SRN/\"  \\\n",
        "                                    --rec_image_shape=\"1, 64, 256\"  \\\n",
        "                                    --rec_char_type=\"ch\"   \\\n",
        "                                    --rec_char_dict_path=\"./ppocr/utils/dict/vi_vietnam.txt\""
      ]
    },
    {
      "cell_type": "markdown",
      "metadata": {
        "id": "FXWUlkxuCwoM"
      },
      "source": [
        "#Text Detection and Recognition Inference Concatenation"
      ]
    },
    {
      "cell_type": "code",
      "execution_count": 44,
      "metadata": {
        "colab": {
          "base_uri": "https://localhost:8080/"
        },
        "id": "bdlwPIeSIJxf",
        "outputId": "48d62eab-93a6-4f4d-bd0b-68a680bf04d6"
      },
      "outputs": [
        {
          "name": "stdout",
          "output_type": "stream",
          "text": [
            "/usr/local/lib/python3.7/dist-packages/skimage/data/__init__.py:107: DeprecationWarning: \n",
            "    Importing file_hash from pooch.utils is DEPRECATED. Please import from the\n",
            "    top-level namespace (`from pooch import file_hash`) instead, which is fully\n",
            "    backwards compatible with pooch >= 0.1.\n",
            "    \n",
            "  return file_hash(path) == expected_hash\n",
            "[2022/01/24 17:48:35] root DEBUG: dt_boxes num : 0, elapse : 2.23461651802063\n",
            "[2022/01/24 17:48:35] root DEBUG: rec_res num  : 0, elapse : 2.384185791015625e-06\n",
            "[2022/01/24 17:48:36] root DEBUG: dt_boxes num : 0, elapse : 0.9789605140686035\n",
            "[2022/01/24 17:48:36] root DEBUG: rec_res num  : 0, elapse : 2.384185791015625e-06\n",
            "[2022/01/24 17:48:37] root DEBUG: dt_boxes num : 0, elapse : 0.9548494815826416\n",
            "[2022/01/24 17:48:37] root DEBUG: rec_res num  : 0, elapse : 2.1457672119140625e-06\n",
            "[2022/01/24 17:48:38] root DEBUG: dt_boxes num : 0, elapse : 0.947263240814209\n",
            "[2022/01/24 17:48:38] root DEBUG: rec_res num  : 0, elapse : 2.384185791015625e-06\n",
            "[2022/01/24 17:48:39] root DEBUG: dt_boxes num : 0, elapse : 0.9404685497283936\n",
            "[2022/01/24 17:48:39] root DEBUG: rec_res num  : 0, elapse : 2.384185791015625e-06\n",
            "[2022/01/24 17:48:40] root DEBUG: dt_boxes num : 0, elapse : 0.9289333820343018\n",
            "[2022/01/24 17:48:40] root DEBUG: rec_res num  : 0, elapse : 2.384185791015625e-06\n",
            "[2022/01/24 17:48:41] root DEBUG: dt_boxes num : 0, elapse : 0.9342713356018066\n",
            "[2022/01/24 17:48:41] root DEBUG: rec_res num  : 0, elapse : 2.86102294921875e-06\n",
            "[2022/01/24 17:48:41] root DEBUG: dt_boxes num : 0, elapse : 0.9424605369567871\n",
            "[2022/01/24 17:48:41] root DEBUG: rec_res num  : 0, elapse : 2.384185791015625e-06\n",
            "[2022/01/24 17:48:42] root DEBUG: dt_boxes num : 0, elapse : 0.9358763694763184\n",
            "[2022/01/24 17:48:42] root DEBUG: rec_res num  : 0, elapse : 2.1457672119140625e-06\n",
            "[2022/01/24 17:48:43] root DEBUG: dt_boxes num : 0, elapse : 0.937091588973999\n",
            "[2022/01/24 17:48:43] root DEBUG: rec_res num  : 0, elapse : 2.384185791015625e-06\n",
            "[2022/01/24 17:48:47] root DEBUG: dt_boxes num : 24, elapse : 3.3040220737457275\n",
            "[2022/01/24 17:48:47] root DEBUG: rec_res num  : 24, elapse : 0.5359518527984619\n",
            "[2022/01/24 17:48:47] root INFO: 0  Predict time of ./train/vietnamese/unseen_test_images/im1501.jpg: 3.848s\n",
            "[2022/01/24 17:48:47] root DEBUG: The visualized image saved in ./inference_results/im1501.jpg\n",
            "[2022/01/24 17:48:47] root INFO: The predict total time is 4.036892890930176\n",
            "[2022/01/24 17:48:47] root INFO: \n",
            "The predict total time is 3.848020315170288\n"
          ]
        }
      ],
      "source": [
        "!python3 ./tools/infer/predict_system.py --use_gpu=True  \\\n",
        "    --det_algorithm=\"SAST\"  \\\n",
        "    --det_model_dir=\"./inference/SAST\"  \\\n",
        "    --rec_algorithm=\"SRN\" \\\n",
        "    --rec_model_dir=\"./inference/SRN/\"  \\\n",
        "    --rec_image_shape=\"1, 64, 256\"  \\\n",
        "    --rec_char_type=\"ch\"  \\\n",
        "    --drop_score=0.5  \\\n",
        "    --vis_font_path=font-times-new-roman.ttf \\\n",
        "    --image_dir=\"./train/vietnamese/unseen_test_images/im1501.jpg\" \\\n",
        "    --rec_char_dict_path=\"./ppocr/utils/dict/vi_vietnam.txt\" "
      ]
    }
  ],
  "metadata": {
    "accelerator": "GPU",
    "colab": {
      "collapsed_sections": [],
      "name": "Notebook.ipynb",
      "provenance": []
    },
    "kernelspec": {
      "display_name": "Python 3",
      "name": "python3"
    },
    "language_info": {
      "name": "python"
    }
  },
  "nbformat": 4,
  "nbformat_minor": 0
}
